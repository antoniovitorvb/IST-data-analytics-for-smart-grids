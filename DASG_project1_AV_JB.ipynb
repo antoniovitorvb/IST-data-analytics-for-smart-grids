{
 "cells": [
  {
   "cell_type": "code",
   "execution_count": 216,
   "metadata": {},
   "outputs": [],
   "source": [
    "import pandas as pd\n",
    "import numpy as np\n",
    "import matplotlib.pyplot as plt\n",
    "\n",
    "# Parameters\n",
    "\n",
    "cosPhi=0.95\n",
    "time=48\n",
    "m=12\n",
    "netFactor=0.25\n",
    "noiseFactor=0.05"
   ]
  },
  {
   "cell_type": "markdown",
   "metadata": {},
   "source": [
    "<b>Considered network\n",
    "\n",
    "<!-- ![image.png](https://raw.githubusercontent.com/antoniovitorvb/IST-data-analytics-for-smart-grids/main/project1/DASG%20project1%20topology.png) -->\n",
    "\n",
    "<img src='https://raw.githubusercontent.com/antoniovitorvb/IST-data-analytics-for-smart-grids/main/project1/DASG-project1_topology3.png' alt='topology.png' width=400 height='auto'>"
   ]
  },
  {
   "cell_type": "markdown",
   "metadata": {},
   "source": [
    "<b>Initial Data"
   ]
  },
  {
   "cell_type": "code",
   "execution_count": 217,
   "metadata": {},
   "outputs": [
    {
     "name": "stdout",
     "output_type": "stream",
     "text": [
      "\n",
      "Apparent power with new consumers:\n",
      " [[0.045 0.015 0.047 0.033 0.013 0.025 0.028 0.024 0.261 0.017]\n",
      " [0.025 0.015 0.248 0.033 0.046 0.015 0.017 0.026 0.395 0.026]\n",
      " [0.097 0.025 0.394 0.033 0.028 0.02  0.012 0.014 0.02  0.022]\n",
      " [0.07  0.049 0.02  0.485 0.016 0.022 0.014 0.203 0.024 0.016]\n",
      " [0.125 0.046 0.016 0.143 0.397 0.071 0.028 0.052 0.047 0.01 ]\n",
      " [0.29  0.027 0.016 0.047 0.051 0.203 0.048 0.017 0.034 0.011]\n",
      " [0.259 0.015 0.017 0.02  0.291 0.043 0.046 0.045 0.01  0.208]\n",
      " [0.259 0.016 0.028 0.016 0.026 0.024 0.203 0.099 0.051 0.05 ]\n",
      " [0.442 0.016 0.05  0.017 0.128 0.027 0.396 0.046 0.053 0.017]\n",
      " [0.201 0.023 0.046 0.016 0.047 0.147 0.045 0.017 0.051 0.095]\n",
      " [0.206 0.049 0.022 0.024 0.015 0.025 0.053 0.019 0.05  0.025]\n",
      " [0.13  0.047 0.016 0.049 0.142 0.017 0.047 0.267 0.025 0.039]\n",
      " [0.046 0.026 0.017 0.048 0.267 0.014 0.131 0.017 0.016 0.098]]\n"
     ]
    }
   ],
   "source": [
    "#Consumption dataset\n",
    "s = [[0.0450,    0.0150,    0.0470,    0.0330],\n",
    "     [0.0250,    0.0150,    0.2480,    0.0330],\n",
    "     [0.0970,    0.0250,    0.3940,    0.0330],\n",
    "     [0.0700,    0.0490,    0.0200,    0.4850],\n",
    "     [0.1250,    0.0460,    0.0160,    0.1430],\n",
    "     [0.2900,    0.0270,    0.0160,    0.0470],\n",
    "     [0.2590,    0.0150,    0.0170,    0.0200],\n",
    "     [0.2590,    0.0160,    0.0280,    0.0160],\n",
    "     [0.4420,    0.0160,    0.0500,    0.0170],\n",
    "     [0.2010,    0.0230,    0.0460,    0.0160],\n",
    "     [0.2060,    0.0490,    0.0220,    0.0240],\n",
    "     [0.1300,    0.0470,    0.0160,    0.0490],\n",
    "     [0.0460,    0.0260,    0.0170,    0.0480]]\n",
    "s = np.array(s)\n",
    "\n",
    "newConsumers = 6\n",
    "S = s.copy()\n",
    "newCol = []\n",
    "np.random.seed(120)\n",
    "for i in range(newConsumers):\n",
    "    flat_S = S.flatten()\n",
    "    samples = np.random.choice(flat_S, size=m+1, replace=True)\n",
    "    new_column = samples + np.random.normal(loc=0, scale=noiseFactor**2, size=len(samples))\n",
    "    new_column = np.round(new_column, 3)\n",
    "\n",
    "    S = np.c_[S, new_column]\n",
    "    # S.append()\n",
    "\n",
    "#topology\n",
    "topo=[[1,2], [2,3], [3,4], [4,5], [5,6], [6,7]]\n",
    "nBUS=np.max(topo)\n",
    "\n",
    "#Impedance\n",
    "z = []\n",
    "for i in range(len(topo)):\n",
    "    r = np.round(np.random.uniform(low=0.01, high=0.25), 3)\n",
    "    im = np.round(np.random.uniform(low=0.01, high=0.15), 3)\n",
    "\n",
    "    z.append(complex(r, im))\n",
    "\n",
    "z = np.multiply(z, netFactor)\n",
    "# print(z)\n",
    "\n",
    "vr=1 #Reference voltage\n",
    "el=1\n",
    "ni=20 #Iterations for the Power Flow\n",
    "\n",
    "print('\\nApparent power with new consumers:\\n', S)"
   ]
  },
  {
   "cell_type": "markdown",
   "metadata": {},
   "source": [
    "<b>Power Flow Function"
   ]
  },
  {
   "cell_type": "code",
   "execution_count": 245,
   "metadata": {},
   "outputs": [
    {
     "data": {
      "text/plain": [
       "(3, 6)"
      ]
     },
     "execution_count": 245,
     "metadata": {},
     "output_type": "execute_result"
    }
   ],
   "source": [
    "np.random.randn(3,6)"
   ]
  },
  {
   "cell_type": "code",
   "execution_count": 240,
   "metadata": {},
   "outputs": [],
   "source": [
    "def pf3ph(t,z,si,vr,el,ni,al):\n",
    "    #Matrices creation\n",
    "    t=np.array(t)\n",
    "    p=t[:,0]\n",
    "    f=t[:,1]\n",
    "    nBUS=np.max(t)\n",
    "    \n",
    "    # w=len(p)\n",
    "    # vp=np.zeros(si.shape, dtype=complex)\n",
    "    # vn=np.zeros(si.shape, dtype=complex)\n",
    "    w=len(p)+1\n",
    "    vp=np.zeros((3,w), dtype=complex)\n",
    "    vn=np.zeros((3,w), dtype=complex)\n",
    "    vp[0,0:w]=vr\n",
    "    \n",
    "    for h in range (2, 4):\n",
    "        vp[h-1,:]=vp[h-2,:]*al  #Create a three phase system of voltages\n",
    "                                #Voltages will be the same in all BUS\n",
    "\n",
    "    va = vp-vn                                                      #Auxiliar voltage\n",
    "    ia=np.conj(np.divide(np.multiply(si, np.abs(va)**el), va))      #Auxiliar current \n",
    "    \n",
    "    for it in range(ni):                                          #Iterations of Power Flow\n",
    "        va=vp-vn\n",
    "        ip=np.conj(np.divide(np.multiply(si,np.abs(va)**el),va))  #Phase current \n",
    "        inn=-np.sum(ip,0)                                         #Neutral current \n",
    "        for k in range(w-1,0,-1):                                 #Backward Cycle\n",
    "            n=f[k-1]\n",
    "            m=p[k-1]\n",
    "            ip[:,m-1]=ip[:,m-1]+ip[:,n-1]                         #Phase Current\n",
    "            inn=-np.sum(ip,0)                                     #Neutral Current\n",
    "\n",
    "        eps= np.linalg.norm(np.max(np.abs(ia-ip),0))              #Error, comparing the new currents and the old ones (previous iteration)\n",
    "\n",
    "        if eps>1e-4:\n",
    "            ia=ip\n",
    "            mvp=0\n",
    "            mvn=0\n",
    "            eps=np.inf\n",
    "        else:                       #If the error is lower than the limit, we can return the results \n",
    "            mvp=(vp-vn)             #Phase Voltages to return\n",
    "            mvn=vn[0,:]             #Neutral Voltage to return\n",
    "#            return mvp, mvn, eps, ip, inn;\n",
    "            # return mvp\n",
    "            return mvp, ip, inn\n",
    "            \n",
    "        for k in range (w-1):                     #Forward Cycle\n",
    "            n=f[k]                                \n",
    "            m=p[k]\n",
    "            vn[:,n-1]=vn[:,m-1]-z[k]*inn[n-1]     #Neutral Voltage \n",
    "            vp[:,n-1]=vp[:,m-1]-z[k]*ip[:,n-1]    #Phase Voltage\n",
    "        ia=ip             #Save the current of previous iteration"
   ]
  },
  {
   "cell_type": "code",
   "execution_count": 227,
   "metadata": {},
   "outputs": [
    {
     "name": "stdout",
     "output_type": "stream",
     "text": [
      "right seed = 5\n",
      "[2 1 2 2 0 1 0 0 2 0]\n",
      "[1 5 2 6 1 4 5 6 4 2]\n"
     ]
    }
   ],
   "source": [
    "seed = 0\n",
    "while True:\n",
    "    np.random.seed(seed)\n",
    "\n",
    "    consumerPhase = np.array(np.random.randint(0, 3, size=S.shape[1]))\n",
    "    consumerBus = np.array(np.random.randint(1, nBUS, size=S.shape[1]))\n",
    "    # print(np.unique(consumerPhase, return_counts=True))\n",
    "    # print(np.unique(consumerBus))\n",
    "\n",
    "    # Phase-Bus coordinates\n",
    "    coordinates = np.vstack((consumerPhase, consumerBus)).T\n",
    "    unique_coordinates, indices, counts = np.unique(coordinates, axis=0, return_index=True, return_counts=True)\n",
    "\n",
    "    # Check if any coordinate pairs are repeated\n",
    "    is_repeated = len(coordinates) == len(unique_coordinates)\n",
    "    all_phases = np.min(np.unique(consumerPhase, return_counts=True)[1]) >= 2 # min of 2 consumers per phase\n",
    "    # all_buses = len(np.unique(consumerBus)) == nBUS\n",
    "    all_buses = len(np.unique(consumerBus)) >= 5 # alternative threshold\n",
    "\n",
    "    if is_repeated and all_phases and all_buses:\n",
    "        print('right seed =', seed)\n",
    "        print(consumerPhase)\n",
    "        print(consumerBus)\n",
    "        break\n",
    "    else:\n",
    "        seed+=1"
   ]
  },
  {
   "cell_type": "code",
   "execution_count": 261,
   "metadata": {},
   "outputs": [
    {
     "name": "stdout",
     "output_type": "stream",
     "text": [
      "(array([1, 2, 4, 5, 6]), array([2, 2, 2, 2, 2]))\n"
     ]
    }
   ],
   "source": [
    "print(np.unique(consumerBus, return_counts=True))"
   ]
  },
  {
   "cell_type": "code",
   "execution_count": 260,
   "metadata": {},
   "outputs": [
    {
     "name": "stdout",
     "output_type": "stream",
     "text": [
      "The voltages measured (Vq) in the PMUs are:\n",
      " [[ 0.95545843-0.03583121j -0.47322963-0.91945335j -0.39899575+0.80658953j]\n",
      " [ 1.04468285-0.06231744j -0.42181258-0.91121141j -0.31327157+0.71526353j]\n",
      " [ 0.93589201-0.01600137j -0.48654215-0.89981203j -0.4379854 +0.85851506j]\n",
      " [ 0.9393759 -0.09849746j -0.44562787-0.94798441j -0.29423388+0.68524355j]\n",
      " [ 1.0320406 -0.04815073j -0.48405902-0.8745938j  -0.43783209+0.84935514j]\n",
      " [ 1.04200146+0.01762389j -0.48608769-0.78615255j -0.46011485+0.89325139j]\n",
      " [ 0.98394254-0.05383105j -0.50535414-0.85548934j -0.46142079+0.78364375j]\n",
      " [ 0.92584188-0.08374854j -0.52418854-0.87059695j -0.53933368+0.86525904j]\n",
      " [ 0.83064522-0.10804171j -0.54523286-0.8911862j  -0.50895788+0.79174218j]\n",
      " [ 1.07496107-0.00099165j -0.48652641-0.79862391j -0.46057717+0.85144924j]\n",
      " [ 0.9454434 -0.01244561j -0.51340679-0.88077353j -0.51113012+0.93415234j]\n",
      " [ 0.89258944-0.09266341j -0.54050822-0.87791168j -0.55921151+0.87183205j]]\n",
      "\n",
      "The unknown-phase loads measured (Iq) in the PMUs are:\n",
      " [ 0.01172835+0.02758943j  0.01264306+0.02984414j -0.00252612+0.03021652j\n",
      "  0.0224991 +0.40591047j -0.01038112+0.11952335j -0.00330385+0.04039765j\n",
      "  0.03306312+0.01571332j  0.09880205+0.00460235j  0.03681127+0.00822178j\n",
      "  0.00999108+0.0135826j   0.00782506+0.01966823j  0.24627311+0.01166839j]\n"
     ]
    }
   ],
   "source": [
    "#Creation of Matrices\n",
    "al = np.exp(-1j * np.deg2rad(120)) # Phase Angle\n",
    "Y=np.zeros((3*m), dtype=complex)\n",
    "X=np.zeros((3*m,m), dtype=complex)\n",
    "v=np.zeros((m,3))\n",
    "I=np.zeros(m, dtype=complex)\n",
    "dv_abs=np.zeros((m,3))\n",
    "\n",
    "# Assign each consumer to one Phase and one Bus:\n",
    "np.random.seed(seed)\n",
    "consumerPhase = np.array(np.random.randint(0, 3, size=S.shape[1]))  # 0 = a; 1 = b; 2 = c\n",
    "consumerBus = np.array(np.random.randint(1, nBUS, size=S.shape[1])) # except the source (n)\n",
    "\n",
    "# print(consumerPhase)\n",
    "# print(consumerBus)\n",
    "\n",
    "si = np.zeros((3, nBUS))\n",
    "for i in range(m):\n",
    "    for c in range(S.shape[1]):\n",
    "        si[consumerPhase[c], consumerBus[c]] = S[i, c]\n",
    "    # print('\\n',S[i,:])\n",
    "    # print('SI values:\\n', pd.DataFrame(si))\n",
    "    \n",
    "    mvp, Ip, Inn = pf3ph(topo,z,si,vr,el,ni,al)\n",
    "    # mvp = pf3ph(topo,z,si,vr,el,ni,al)\n",
    "    # print('\\nMVP:\\n', pd.DataFrame(mvp))\n",
    "    noise = 1 + noiseFactor*np.random.randn(mvp.shape[0], mvp.shape[1])\n",
    "    mvp = np.multiply(mvp, noise)  # Add noise to the currents\n",
    "    noise = 1 + noiseFactor*np.random.randn(Ip.shape[0], Ip.shape[1])\n",
    "    Ip = np.multiply(Ip, noise)  # Add noise to the voltages\n",
    "\n",
    "    Y[3*(i):3*(i)+3]=mvp[:, -1]                 # Save Vq in matrix Y\n",
    "    I[i] = np.sum(Ip[:,-1])                     # Save unknown-phase loads in node q\n",
    "    dv_abs[i,:]=vr-np.abs(mvp[:,-1])            # Voltage variations (only to plot)\n",
    "\n",
    "Volt=np.reshape(Y,(m,3))\n",
    "\n",
    "print ('The voltages measured (Vq) in the PMUs are:\\n', Volt)\n",
    "print ('\\nThe unknown-phase loads measured (Iq) in the PMUs are:\\n', I)\n",
    "\n",
    "#The value of Z is the multiplication between D and W but not considering the values of z_nm; z_ml and z_lk\n",
    "Z = [[2, al, al**2],\n",
    "     [1, 2*al, al**2],\n",
    "     [1, al, 2*al**2]]"
   ]
  },
  {
   "cell_type": "markdown",
   "metadata": {},
   "source": [
    "<b>Complex Expansion\n",
    "\n",
    "<img src='https://raw.githubusercontent.com/antoniovitorvb/IST-data-analytics-for-smart-grids/main/project1/complex_expansion.png' alt='regression.png' width=400 height='auto'>"
   ]
  },
  {
   "cell_type": "code",
   "execution_count": 195,
   "metadata": {},
   "outputs": [
    {
     "name": "stdout",
     "output_type": "stream",
     "text": [
      "W1\n",
      " [[ 0.115     +0.035j      -0.01359456-0.05854646j -0.04390544+0.04104646j]\n",
      " [ 0.0575    +0.0175j     -0.02718911-0.11709292j -0.04390544+0.04104646j]\n",
      " [ 0.0575    +0.0175j     -0.01359456-0.05854646j -0.08781089+0.08209292j]]\n",
      "\n",
      "W2\n",
      " [[ 0.1895    +0.0645j     -0.01944568-0.09818091j -0.07530432+0.06593091j]\n",
      " [ 0.09475   +0.03225j    -0.03889136-0.19636181j -0.07530432+0.06593091j]\n",
      " [ 0.09475   +0.03225j    -0.01944568-0.09818091j -0.15060864+0.13186181j]]\n"
     ]
    }
   ],
   "source": [
    "W1 = np.multiply(z[0], Z) # z_nm\n",
    "print('W1\\n', W1)\n",
    "W2 = np.multiply(z[0]+z[1], Z) # z_nm + z_ml\n",
    "print('\\nW2\\n', W2)"
   ]
  },
  {
   "cell_type": "code",
   "execution_count": 169,
   "metadata": {},
   "outputs": [
    {
     "name": "stdout",
     "output_type": "stream",
     "text": [
      "[[ 1.        +0.j          1.        +0.j          1.        +0.j\n",
      "   1.02182097+0.j          1.        +0.j          0.        +0.j        ]\n",
      " [-0.5       -0.8660254j  -0.5       -0.8660254j  -0.5       -0.8660254j\n",
      "  -0.49060467-0.84975222j -0.5       -0.8660254j   0.        -0.j        ]\n",
      " [-0.5       +0.8660254j  -0.5       +0.8660254j  -0.5       +0.8660254j\n",
      "  -0.47692346+0.82605566j -0.5       +0.8660254j  -0.        +0.j        ]]\n"
     ]
    },
    {
     "data": {
      "text/plain": [
       "array([ 1.02182097+0.j        , -0.49060467-0.84975222j,\n",
       "       -0.47692346+0.82605566j])"
      ]
     },
     "execution_count": 169,
     "metadata": {},
     "output_type": "execute_result"
    }
   ],
   "source": [
    "print(mvp)\n",
    "mvp[:,3]"
   ]
  },
  {
   "cell_type": "code",
   "execution_count": 189,
   "metadata": {},
   "outputs": [
    {
     "data": {
      "text/plain": [
       "array([[ 1. +0.j       ,  1. +0.j       ,  1. +0.j       ],\n",
       "       [-0.5-0.8660254j, -0.5-0.8660254j, -0.5-0.8660254j],\n",
       "       [-0.5+0.8660254j, -0.5+0.8660254j, -0.5+0.8660254j]])"
      ]
     },
     "execution_count": 189,
     "metadata": {},
     "output_type": "execute_result"
    }
   ],
   "source": [
    "D = np.reshape(np.repeat([1, al, al**2], 3), (3,3)).T"
   ]
  }
 ],
 "metadata": {
  "kernelspec": {
   "display_name": "Python 3",
   "language": "python",
   "name": "python3"
  },
  "language_info": {
   "codemirror_mode": {
    "name": "ipython",
    "version": 3
   },
   "file_extension": ".py",
   "mimetype": "text/x-python",
   "name": "python",
   "nbconvert_exporter": "python",
   "pygments_lexer": "ipython3",
   "version": "3.10.12"
  }
 },
 "nbformat": 4,
 "nbformat_minor": 2
}
