{
 "cells": [
  {
   "cell_type": "code",
   "execution_count": 141,
   "metadata": {},
   "outputs": [],
   "source": [
    "import pandas as pd\n",
    "import numpy as np\n",
    "import matplotlib.pyplot as plt\n",
    "\n",
    "# Parameters\n",
    "\n",
    "cosPhi=0.95\n",
    "time=48\n",
    "m=12\n",
    "netFactor=0.25\n",
    "noiseFactor=0.05"
   ]
  },
  {
   "cell_type": "markdown",
   "metadata": {},
   "source": [
    "<b>Considered network\n",
    "\n",
    "<!-- ![image.png](https://raw.githubusercontent.com/antoniovitorvb/IST-data-analytics-for-smart-grids/main/project1/DASG%20project1%20topology.png) -->\n",
    "\n",
    "<img src='https://raw.githubusercontent.com/antoniovitorvb/IST-data-analytics-for-smart-grids/main/project1/DASG-project1_topology2.png' alt='topology.png' width=400 height='auto'>"
   ]
  },
  {
   "cell_type": "markdown",
   "metadata": {},
   "source": [
    "<b>Initial Data"
   ]
  },
  {
   "cell_type": "code",
   "execution_count": 142,
   "metadata": {},
   "outputs": [
    {
     "name": "stdout",
     "output_type": "stream",
     "text": [
      "\n",
      "Apparent power with new consumers:\n",
      " [[0.045 0.015 0.047 0.033 0.013 0.025 0.028 0.024 0.261]\n",
      " [0.025 0.015 0.248 0.033 0.046 0.015 0.017 0.026 0.395]\n",
      " [0.097 0.025 0.394 0.033 0.028 0.02  0.012 0.014 0.02 ]\n",
      " [0.07  0.049 0.02  0.485 0.016 0.022 0.014 0.203 0.024]\n",
      " [0.125 0.046 0.016 0.143 0.397 0.071 0.028 0.052 0.047]\n",
      " [0.29  0.027 0.016 0.047 0.051 0.203 0.048 0.017 0.034]\n",
      " [0.259 0.015 0.017 0.02  0.291 0.043 0.046 0.045 0.01 ]\n",
      " [0.259 0.016 0.028 0.016 0.026 0.024 0.203 0.099 0.051]\n",
      " [0.442 0.016 0.05  0.017 0.128 0.027 0.396 0.046 0.053]\n",
      " [0.201 0.023 0.046 0.016 0.047 0.147 0.045 0.017 0.051]\n",
      " [0.206 0.049 0.022 0.024 0.015 0.025 0.053 0.019 0.05 ]\n",
      " [0.13  0.047 0.016 0.049 0.142 0.017 0.047 0.267 0.025]\n",
      " [0.046 0.026 0.017 0.048 0.267 0.014 0.131 0.017 0.016]]\n"
     ]
    }
   ],
   "source": [
    "#Consumption dataset\n",
    "s = [[0.0450,    0.0150,    0.0470,    0.0330],\n",
    "     [0.0250,    0.0150,    0.2480,    0.0330],\n",
    "     [0.0970,    0.0250,    0.3940,    0.0330],\n",
    "     [0.0700,    0.0490,    0.0200,    0.4850],\n",
    "     [0.1250,    0.0460,    0.0160,    0.1430],\n",
    "     [0.2900,    0.0270,    0.0160,    0.0470],\n",
    "     [0.2590,    0.0150,    0.0170,    0.0200],\n",
    "     [0.2590,    0.0160,    0.0280,    0.0160],\n",
    "     [0.4420,    0.0160,    0.0500,    0.0170],\n",
    "     [0.2010,    0.0230,    0.0460,    0.0160],\n",
    "     [0.2060,    0.0490,    0.0220,    0.0240],\n",
    "     [0.1300,    0.0470,    0.0160,    0.0490],\n",
    "     [0.0460,    0.0260,    0.0170,    0.0480]]\n",
    "s = np.array(s)\n",
    "\n",
    "newConsumers = 5\n",
    "S = s.copy()\n",
    "newCol = []\n",
    "np.random.seed(120)\n",
    "for i in range(newConsumers):\n",
    "    flat_S = S.flatten()\n",
    "    samples = np.random.choice(flat_S, size=m+1, replace=True)\n",
    "    new_column = samples + np.random.normal(loc=0, scale=noiseFactor**2, size=len(samples))\n",
    "    new_column = np.round(new_column, 3)\n",
    "\n",
    "    S = np.c_[S, new_column]\n",
    "    # S.append()\n",
    "\n",
    "#topology\n",
    "topo=[[1, 2],[2,3], [2,5], [3,4], [5,6]]\n",
    "nBUS=np.max(topo)\n",
    "\n",
    "#Impedance\n",
    "z = []\n",
    "for i in range(len(topo)):\n",
    "    r = np.round(np.random.uniform(low=0.01, high=0.25), 3)\n",
    "    im = np.round(np.random.uniform(low=0.01, high=0.15), 3)\n",
    "\n",
    "    z.append(complex(r, im))\n",
    "\n",
    "z = np.multiply(z, netFactor)\n",
    "# print(z)\n",
    "\n",
    "vr=1 #Reference voltage\n",
    "el=1\n",
    "ni=20 #Iterations for the Power Flow\n",
    "\n",
    "print('\\nApparent power with new consumers:\\n', S)"
   ]
  },
  {
   "cell_type": "markdown",
   "metadata": {},
   "source": [
    "<b>Power Flow Function"
   ]
  },
  {
   "cell_type": "code",
   "execution_count": 150,
   "metadata": {},
   "outputs": [
    {
     "data": {
      "text/plain": [
       "5"
      ]
     },
     "execution_count": 150,
     "metadata": {},
     "output_type": "execute_result"
    }
   ],
   "source": [
    "len(np.array(topo)[:,0])"
   ]
  },
  {
   "cell_type": "code",
   "execution_count": 155,
   "metadata": {},
   "outputs": [],
   "source": [
    "def pf3ph(t,z,si,vr,el,ni,al):\n",
    "    #Matrices creation\n",
    "    t=np.array(t)\n",
    "    p=t[:,0]\n",
    "    f=t[:,1]\n",
    "    nBUS=np.max(t)\n",
    "    \n",
    "    w=len(p)\n",
    "    vp=np.zeros(si.shape, dtype=complex)\n",
    "    vn=np.zeros(si.shape, dtype=complex)\n",
    "    vp[0,0:w]=vr\n",
    "    \n",
    "    for h in range (2, 4):\n",
    "        vp[h-1,:]=vp[h-2,:]*al  #Create a three phase system of voltages\n",
    "                                #Voltages will be the same in all BUS\n",
    "        # print(vp.shape, vp)\n",
    "\n",
    "    va=vp-vn                                                      #Auxiliar voltage\n",
    "    ia=np.conj(np.divide(np.multiply(si, np.abs(va)**el), va))      #Auxiliar current \n",
    "    \n",
    "    for it in range(ni):                                          #Iterations of Power Flow\n",
    "        va=vp-vn\n",
    "        ip=np.conj(np.divide(np.multiply(si,np.abs(va)**el),va))  #Phase current \n",
    "        inn=-np.sum(ip,0)                                         #Neutral current \n",
    "        for k in range(w-1,0,-1):                                 #Backward Cycle\n",
    "            n=f[k-1]\n",
    "            m=p[k-1]\n",
    "            ip[:,m-1]=ip[:,m-1]+ip[:,n-1]                         #Phase Current\n",
    "            inn=-np.sum(ip,0)                                     #Neutral Current\n",
    "\n",
    "        eps= np.linalg.norm(np.max(np.abs(ia-ip),0))              #Error, comparing the new currents and the old ones (previous iteration)\n",
    "\n",
    "        if eps>1e-4:\n",
    "            ia=ip\n",
    "            mvp=0\n",
    "            mvn=0\n",
    "            eps=np.inf\n",
    "        else:                       #If the error is lower than the limit, we can return the results \n",
    "            mvp=(vp-vn)             #Phase Voltages to return\n",
    "            mvn=vn[0,:]             #Neutral Voltage to return\n",
    "#            return mvp, mvn, eps, ip, inn;\n",
    "            return mvp\n",
    "            # return mvp, ip, inn\n",
    "            \n",
    "        for k in range (w-1):                     #Forward Cycle\n",
    "            n=f[k]                                \n",
    "            m=p[k]\n",
    "            vn[:,n-1]=vn[:,m-1]-z[k]*inn[n-1]     #Neutral Voltage \n",
    "            vp[:,n-1]=vp[:,m-1]-z[k]*ip[:,n-1]    #Phase Voltage\n",
    "        ia=ip             #Save the current of previous iteration"
   ]
  },
  {
   "cell_type": "code",
   "execution_count": 145,
   "metadata": {},
   "outputs": [
    {
     "name": "stdout",
     "output_type": "stream",
     "text": [
      "right seed = 9\n",
      "[2 0 2 1 2 0 2 1 1]\n",
      "[4 3 0 2 1 0 5 3 1]\n"
     ]
    }
   ],
   "source": [
    "seed = 0\n",
    "while True:\n",
    "    np.random.seed(seed)\n",
    "\n",
    "    consumerPhase = np.array(np.random.randint(0, 3, size=S.shape[1]))\n",
    "    consumerBus = np.array(np.random.randint(0, nBUS, size=S.shape[1]))\n",
    "    # print(np.unique(consumerPhase, return_counts=True))\n",
    "    # print(np.unique(consumerBus))\n",
    "    # print(consumerPhase)\n",
    "    # print(consumerBus)\n",
    "\n",
    "    # Phase-Bus coordinates\n",
    "    coordinates = np.vstack((consumerPhase, consumerBus)).T\n",
    "    unique_coordinates, indices, counts = np.unique(coordinates, axis=0, return_index=True, return_counts=True)\n",
    "\n",
    "    # Check if any coordinate pairs are repeated\n",
    "    is_repeated = len(coordinates) == len(unique_coordinates)\n",
    "    all_phases = np.min(np.unique(consumerPhase, return_counts=True)[1]) >= 2\n",
    "    all_buses = len(np.unique(consumerBus)) == 6\n",
    "    if is_repeated and all_phases and all_buses:\n",
    "        print('right seed =', seed)\n",
    "        print(consumerPhase)\n",
    "        print(consumerBus)\n",
    "        break\n",
    "    else:\n",
    "        seed+=1"
   ]
  },
  {
   "cell_type": "code",
   "execution_count": 156,
   "metadata": {},
   "outputs": [
    {
     "name": "stdout",
     "output_type": "stream",
     "text": [
      "The voltages measured in the PMUs are:\n",
      " [[ 1.03179455+0.j         -0.54350293-0.94137469j -0.50741706+0.87887212j]\n",
      " [ 1.03537518+0.j         -0.54557039-0.94495564j -0.51076923+0.88467825j]\n",
      " [ 1.07713648+0.j         -0.47748197-0.82702303j -0.49657187+0.86008772j]\n",
      " [ 1.06487895+0.j         -0.51688178-0.8952655j  -0.50079895+0.86740923j]\n",
      " [ 1.04590729+0.j         -0.50951274-0.88250195j -0.51290919+0.88838477j]\n",
      " [ 0.98223803+0.j         -0.50521943-0.87506571j -0.50821028+0.88024602j]\n",
      " [ 0.97508876+0.j         -0.44770558-0.77544881j -0.49793531+0.86244925j]\n",
      " [ 1.12275913+0.j         -0.43319725-0.75031965j -0.47716802+0.82647925j]\n",
      " [ 0.98863428+0.j         -0.50673288-0.8776871j  -0.52826153+0.91497581j]\n",
      " [ 1.05211987+0.j         -0.53259526-0.92248205j -0.53473502+0.92618822j]\n",
      " [ 0.96717737+0.j         -0.49859357-0.86358939j -0.48750243+0.84437899j]\n",
      " [ 1.02182097+0.j         -0.49060467-0.84975222j -0.47692346+0.82605566j]]\n"
     ]
    },
    {
     "name": "stderr",
     "output_type": "stream",
     "text": [
      "/tmp/ipykernel_18274/1978229418.py:19: RuntimeWarning: invalid value encountered in divide\n",
      "  ia=np.conj(np.divide(np.multiply(si, np.abs(va)**el), va))      #Auxiliar current\n",
      "/tmp/ipykernel_18274/1978229418.py:23: RuntimeWarning: invalid value encountered in divide\n",
      "  ip=np.conj(np.divide(np.multiply(si,np.abs(va)**el),va))  #Phase current\n"
     ]
    }
   ],
   "source": [
    "#Creation of Matrices\n",
    "al = np.exp(-1j * np.deg2rad(120)) # Phase Angle\n",
    "Y=np.zeros((3*m), dtype=complex)\n",
    "X=np.zeros((3*m,m), dtype=complex)\n",
    "v=np.zeros((m,3))\n",
    "dv_abs=np.zeros((m,3))\n",
    "\n",
    "# Assign each consumer to one Phase and one Bus:\n",
    "np.random.seed(seed)\n",
    "consumerPhase = np.array(np.random.randint(0, 3, size=S.shape[1]))  # 0 = a; 1 = b; 2 = c\n",
    "consumerBus = np.array(np.random.randint(0, nBUS, size=S.shape[1])) # except the source (n)\n",
    "\n",
    "# print(consumerPhase)\n",
    "# print(consumerBus)\n",
    "\n",
    "si = np.zeros((3, nBUS))\n",
    "for i in range(m):\n",
    "    for c in range(S.shape[1]):\n",
    "        si[consumerPhase[c], consumerBus[c]] = S[i, c]\n",
    "    # print('\\n',S[i,:])\n",
    "    # print('SI values:\\n', pd.DataFrame(si))\n",
    "    \n",
    "    # mvp, Ip, Inn = pf3ph(topo,z,si,vr,el,ni,al)\n",
    "    mvp = pf3ph(topo,z,si,vr,el,ni,al)\n",
    "    noise=1+noiseFactor*np.random.randn(3)\n",
    "    mvp[:,3]=np.multiply(mvp[:,3],noise)                       #Add noise to the voltages\n",
    "    Y[3*(i):3*(i)+3]=mvp[:,3]                                  #Save the voltages in matrix Y\n",
    "    dv_abs[i,:]=vr-np.abs(mvp[:,3])                            #Volage variations (only to plot)\n",
    "\n",
    "Volt=np.reshape(Y,(m,3))   \n",
    "\n",
    "print ('The voltages measured in the PMUs are:\\n',Volt)\n",
    "# print ('\\nThe Phase Currents measured in the PMUs are:\\n', Ip)\n",
    "# print ('\\nThe Neutral Currents measured in the PMUs are:\\n', Inn)\n",
    "\n",
    "#The value of Z is the multiplication between D and W but not considering the values of z_nm; z_ml and z_lk\n",
    "Z = [[2, al, al**2],\n",
    "     [1, 2*al, al**2],\n",
    "     [1, al, 2*al**2]]"
   ]
  }
 ],
 "metadata": {
  "kernelspec": {
   "display_name": "Python 3",
   "language": "python",
   "name": "python3"
  },
  "language_info": {
   "codemirror_mode": {
    "name": "ipython",
    "version": 3
   },
   "file_extension": ".py",
   "mimetype": "text/x-python",
   "name": "python",
   "nbconvert_exporter": "python",
   "pygments_lexer": "ipython3",
   "version": "3.10.12"
  }
 },
 "nbformat": 4,
 "nbformat_minor": 2
}
