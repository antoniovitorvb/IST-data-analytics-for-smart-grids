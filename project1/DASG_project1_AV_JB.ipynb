{
 "cells": [
  {
   "cell_type": "code",
   "execution_count": null,
   "metadata": {},
   "outputs": [],
   "source": [
    "import pandas as pd\n",
    "import numpy as np\n",
    "import matplotlib.pyplot as plt\n",
    "\n",
    "# Parameters\n",
    "\n",
    "cosPhi=0.95\n",
    "time=48\n",
    "m=12\n",
    "netFactor=0.25\n",
    "noiseFactor=0.05"
   ]
  },
  {
   "cell_type": "markdown",
   "metadata": {},
   "source": [
    "Initial Data"
   ]
  },
  {
   "cell_type": "code",
   "execution_count": null,
   "metadata": {},
   "outputs": [],
   "source": [
    "#Consumption dataset\n",
    "s=  [[0.0450,    0.0150,    0.0470,    0.0330],\n",
    "     [0.0250,    0.0150,    0.2480,    0.0330],\n",
    "     [0.0970,    0.0250,    0.3940,    0.0330],\n",
    "     [0.0700,    0.0490,    0.0200,    0.4850],\n",
    "     [0.1250,    0.0460,    0.0160,    0.1430],\n",
    "     [0.2900,    0.0270,    0.0160,    0.0470],\n",
    "     [0.2590,    0.0150,    0.0170,    0.0200],\n",
    "     [0.2590,    0.0160,    0.0280,    0.0160],\n",
    "     [0.4420,    0.0160,    0.0500,    0.0170],\n",
    "     [0.2010,    0.0230,    0.0460,    0.0160],\n",
    "     [0.2060,    0.0490,    0.0220,    0.0240],\n",
    "     [0.1300,    0.0470,    0.0160,    0.0490],\n",
    "     [0.0460,    0.0260,    0.0170,    0.0480]]\n",
    "s = np.array(s)\n",
    "\n",
    "#topology\n",
    "topo=[[1, 2],[2,3],[3,4]]\n",
    "nBUS=np.max(topo)\n",
    "\n",
    "#Impedance\n",
    "z=np.multiply([complex(0.1,0.05),complex(0.15,0.07),complex(0.2,0.1)],netFactor)\n",
    "\n",
    "vr=1 #Reference voltage\n",
    "el=1\n",
    "ni=20 #Iterations for the Power Flow"
   ]
  }
 ],
 "metadata": {
  "language_info": {
   "name": "python"
  }
 },
 "nbformat": 4,
 "nbformat_minor": 2
}
